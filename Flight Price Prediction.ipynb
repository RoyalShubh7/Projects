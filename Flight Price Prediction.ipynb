{
 "cells": [
  {
   "cell_type": "markdown",
   "id": "d4f850bc",
   "metadata": {},
   "source": [
    "Importing The Necessary Libraries:"
   ]
  },
  {
   "cell_type": "code",
   "execution_count": null,
   "id": "2c1faf92",
   "metadata": {},
   "outputs": [],
   "source": [
    "import numpy as np\n",
    "import pandas as pd\n",
    "import matplotlib.pylab as plt\n",
    "import seaborn as sns\n"
   ]
  },
  {
   "cell_type": "markdown",
   "id": "392e910c",
   "metadata": {},
   "source": [
    "# Importing Dataset:\n"
   ]
  },
  {
   "cell_type": "code",
   "execution_count": null,
   "id": "6e7948de",
   "metadata": {},
   "outputs": [],
   "source": [
    "df = pd.read_excel(\"/Users/shubh/Downloads/Flight_Ticket_Participant_Datasets/Data_Train.xlsx\")\n",
    "df"
   ]
  },
  {
   "cell_type": "markdown",
   "id": "49a5512b",
   "metadata": {},
   "source": [
    "# Exploratory Data Analysis (EDA):"
   ]
  },
  {
   "cell_type": "code",
   "execution_count": null,
   "id": "b4ed11c8",
   "metadata": {},
   "outputs": [],
   "source": [
    "df.columns"
   ]
  },
  {
   "cell_type": "markdown",
   "id": "26d42317",
   "metadata": {},
   "source": [
    "Getting Information Of Dataset:"
   ]
  },
  {
   "cell_type": "code",
   "execution_count": null,
   "id": "a48c4fc8",
   "metadata": {},
   "outputs": [],
   "source": [
    "df.info()"
   ]
  },
  {
   "cell_type": "code",
   "execution_count": null,
   "id": "e87af3d8",
   "metadata": {},
   "outputs": [],
   "source": [
    "df.dtypes"
   ]
  },
  {
   "cell_type": "markdown",
   "id": "e0ad29fa",
   "metadata": {},
   "source": [
    "Describing The Dataset to Know More :"
   ]
  },
  {
   "cell_type": "code",
   "execution_count": null,
   "id": "41bf1ab3",
   "metadata": {},
   "outputs": [],
   "source": [
    "df.describe()"
   ]
  },
  {
   "cell_type": "markdown",
   "id": "92413b96",
   "metadata": {},
   "source": [
    "Checking For Null Values In Dataset:"
   ]
  },
  {
   "cell_type": "code",
   "execution_count": null,
   "id": "452de6d2",
   "metadata": {},
   "outputs": [],
   "source": [
    "df.isnull().sum()"
   ]
  },
  {
   "cell_type": "code",
   "execution_count": null,
   "id": "a1a47d27",
   "metadata": {},
   "outputs": [],
   "source": [
    "df.isnull().sum().any()"
   ]
  },
  {
   "cell_type": "markdown",
   "id": "9075cfe7",
   "metadata": {},
   "source": [
    "Dropping The NAN Values:"
   ]
  },
  {
   "cell_type": "code",
   "execution_count": null,
   "id": "3c8f7ed5",
   "metadata": {},
   "outputs": [],
   "source": [
    "df.dropna(inplace= True)"
   ]
  },
  {
   "cell_type": "code",
   "execution_count": null,
   "id": "88e6d1cd",
   "metadata": {},
   "outputs": [],
   "source": [
    "df[df.duplicated()].head()"
   ]
  },
  {
   "cell_type": "markdown",
   "id": "de89caa0",
   "metadata": {},
   "source": [
    "Here we will be removing those repeated values from the dataset and keeping the in-place attribute to be true so that there will be no changes.\n",
    "\n"
   ]
  },
  {
   "cell_type": "code",
   "execution_count": null,
   "id": "46218ce9",
   "metadata": {},
   "outputs": [],
   "source": [
    "df.drop_duplicates(keep= 'first',inplace= True)\n",
    "df.head()"
   ]
  },
  {
   "cell_type": "code",
   "execution_count": null,
   "id": "0b7601c1",
   "metadata": {},
   "outputs": [],
   "source": [
    "df.shape"
   ]
  },
  {
   "cell_type": "markdown",
   "id": "843c54a1",
   "metadata": {},
   "source": [
    "Checking the Additional_info column and having the count of unique types of values.\n",
    "\n"
   ]
  },
  {
   "cell_type": "code",
   "execution_count": null,
   "id": "4393fa5f",
   "metadata": {},
   "outputs": [],
   "source": [
    "df['Additional_Info'].value_counts()"
   ]
  },
  {
   "cell_type": "markdown",
   "id": "104f6878",
   "metadata": {},
   "source": [
    "Checking the different Airlines :"
   ]
  },
  {
   "cell_type": "code",
   "execution_count": null,
   "id": "7e598223",
   "metadata": {},
   "outputs": [],
   "source": [
    "df['Airline'].value_counts()"
   ]
  },
  {
   "cell_type": "code",
   "execution_count": null,
   "id": "fe46d7c2",
   "metadata": {},
   "outputs": [],
   "source": [
    "df['Airline'].unique()\n"
   ]
  },
  {
   "cell_type": "markdown",
   "id": "eca00303",
   "metadata": {},
   "source": [
    "Checking Diffrent Airline Routes:"
   ]
  },
  {
   "cell_type": "code",
   "execution_count": null,
   "id": "a07acbcd",
   "metadata": {},
   "outputs": [],
   "source": [
    "df[\"Route\"].unique()"
   ]
  },
  {
   "cell_type": "markdown",
   "id": "31e2db26",
   "metadata": {},
   "source": [
    "# Data Visualization:"
   ]
  },
  {
   "cell_type": "markdown",
   "id": "d4f3a10e",
   "metadata": {},
   "source": [
    "A] visualization with Price vs Airline:"
   ]
  },
  {
   "cell_type": "code",
   "execution_count": null,
   "id": "affb6a14",
   "metadata": {},
   "outputs": [],
   "source": [
    "sns.catplot(y = \"Price\", x = \"Airline\", data = df.sort_values(\"Price\", ascending = False), kind=\"boxen\", height = 8, aspect = 3)\n",
    "plt.show()"
   ]
  },
  {
   "cell_type": "markdown",
   "id": "794aac29",
   "metadata": {},
   "source": [
    "Here with the help of the cat plot we are trying to plot the boxplot between the price of the flight and airline and we can conclude that Jet Airways has the most outliers in terms of price."
   ]
  },
  {
   "cell_type": "markdown",
   "id": "b06d82c2",
   "metadata": {},
   "source": [
    "B] Visualization for Price vs Source:\n",
    "\n"
   ]
  },
  {
   "cell_type": "code",
   "execution_count": null,
   "id": "357c0b84",
   "metadata": {},
   "outputs": [],
   "source": [
    "sns.catplot(y = \"Price\", x = \"Source\", data = df.sort_values(\"Price\", ascending = False), kind=\"violin\", height = 4, aspect = 3)\n",
    "plt.show()"
   ]
  },
  {
   "cell_type": "markdown",
   "id": "b3acf970",
   "metadata": {},
   "source": [
    "Now with the help of cat plot only we are plotting a box plot between the price of the flight and the source place i.e. the place from where passengers will travel to the destination and we can see that Banglore as the source location has the most outliers while Chennai has the least."
   ]
  },
  {
   "cell_type": "markdown",
   "id": "923c3af0",
   "metadata": {},
   "source": [
    "C] Visualizaton for Price vs Destination:"
   ]
  },
  {
   "cell_type": "code",
   "execution_count": null,
   "id": "d7357138",
   "metadata": {},
   "outputs": [],
   "source": [
    "sns.catplot(y = \"Price\", x = \"Destination\", data = df.sort_values(\"Price\", ascending = False), kind=\"box\", height = 4, aspect = 3)\n",
    "plt.show()"
   ]
  },
  {
   "cell_type": "markdown",
   "id": "e75805b0",
   "metadata": {},
   "source": [
    "Here we are plotting the box plot with the help of a cat plot between the price of the flight and the destination to which the passenger is travelling and figured out that New Delhi has the most outliers and Kolkata has the least."
   ]
  },
  {
   "cell_type": "markdown",
   "id": "37011bf5",
   "metadata": {},
   "source": [
    "# Feature Engineering:"
   ]
  },
  {
   "cell_type": "markdown",
   "id": "8f5b23f2",
   "metadata": {},
   "source": [
    "Lets See Our Data:"
   ]
  },
  {
   "cell_type": "code",
   "execution_count": null,
   "id": "b02e8163",
   "metadata": {},
   "outputs": [],
   "source": [
    "df.head(15)"
   ]
  },
  {
   "cell_type": "markdown",
   "id": "b5ba00e2",
   "metadata": {},
   "source": [
    "Here we are dividing the features and labels and then converting the hours in minutes.\n",
    "\n"
   ]
  },
  {
   "cell_type": "code",
   "execution_count": null,
   "id": "b4df37b4",
   "metadata": {},
   "outputs": [],
   "source": [
    "df[\"Journey_day\"] = pd.to_datetime(df.Date_of_Journey, format=\"%d/%m/%Y\").dt.day\n",
    "df[\"Journey_month\"] = pd.to_datetime(df[\"Date_of_Journey\"], format = \"%d/%m/%Y\").dt.month\n",
    "df.drop([\"Date_of_Journey\"], axis = 1, inplace = True)"
   ]
  },
  {
   "cell_type": "markdown",
   "id": "5278ef6d",
   "metadata": {},
   "source": [
    "Similarly, we can extract ‘Departure_Hour’ and ‘Departure_Minute’ as well as ‘Arrival_Hour and ‘Arrival_Minute’ from ‘Dep_Time’ and ‘Arrival_Time’ variables respectively."
   ]
  },
  {
   "cell_type": "code",
   "execution_count": null,
   "id": "81b56f52",
   "metadata": {},
   "outputs": [],
   "source": [
    "df[\"Dep_hour\"] = pd.to_datetime(df[\"Dep_Time\"]).dt.hour\n",
    "df[\"Dep_min\"] = pd.to_datetime(df[\"Dep_Time\"]).dt.minute\n",
    "df.drop([\"Dep_Time\"], axis = 1, inplace = True)"
   ]
  },
  {
   "cell_type": "code",
   "execution_count": null,
   "id": "a3e2a7ea",
   "metadata": {},
   "outputs": [],
   "source": [
    "df[\"Arrival_hour\"] = pd.to_datetime(df.Arrival_Time).dt.hour\n",
    "df[\"Arrival_min\"] = pd.to_datetime(df.Arrival_Time).dt.minute\n",
    "df.drop([\"Arrival_Time\"], axis = 1, inplace = True)\n"
   ]
  },
  {
   "cell_type": "code",
   "execution_count": null,
   "id": "25bd870f",
   "metadata": {},
   "outputs": [],
   "source": [
    "df.head(15)"
   ]
  },
  {
   "cell_type": "markdown",
   "id": "61f93808",
   "metadata": {},
   "source": [
    "D] Visualizaton of  Bar chart for Months (Duration) vs Number of Flights:"
   ]
  },
  {
   "cell_type": "code",
   "execution_count": null,
   "id": "e878e300",
   "metadata": {},
   "outputs": [],
   "source": [
    "plt.figure(figsize = (22,7))\n",
    "plt.title('Count of flights month wise')\n",
    "ax=sns.countplot(x = 'Journey_month', data = df)\n",
    "plt.xlabel('Month')\n",
    "plt.ylabel('Count of flights')\n",
    "for p in ax.patches:\n",
    "    ax.annotate(int(p.get_height()), (p.get_x()+0.25, p.get_height()+1), va='bottom', color= 'black')"
   ]
  },
  {
   "cell_type": "markdown",
   "id": "6b41c277",
   "metadata": {},
   "source": [
    "Here in the above graph we have plotted the count plot for journey in a month vs several flights and got to see that May has the most number of flights."
   ]
  },
  {
   "cell_type": "markdown",
   "id": "41a7924e",
   "metadata": {},
   "source": [
    "E] Visualization of  Bar chart for Types of Airline vs Number of Flights"
   ]
  },
  {
   "cell_type": "code",
   "execution_count": null,
   "id": "aa8571c7",
   "metadata": {},
   "outputs": [],
   "source": [
    "plt.figure(figsize = (22,7))\n",
    "plt.title('Count of flights with different Airlines')\n",
    "ax=sns.countplot(x = 'Airline', data =df)\n",
    "plt.xlabel('Airline')\n",
    "plt.ylabel('Count of flights')\n",
    "plt.xticks(rotation = 45)\n",
    "for p in ax.patches:\n",
    "    ax.annotate(int(p.get_height()), (p.get_x()+0.25, p.get_height()+1), va='bottom', color= 'black')\n"
   ]
  },
  {
   "cell_type": "markdown",
   "id": "b1b1bd99",
   "metadata": {},
   "source": [
    "Now from the above graph we can see that between the type of airline and count of flights we can see that Jet Airways has the most flight boarded."
   ]
  },
  {
   "cell_type": "markdown",
   "id": "5cec8885",
   "metadata": {},
   "source": [
    "F] Visualizaton of Ticket Price vs Airlines:"
   ]
  },
  {
   "cell_type": "code",
   "execution_count": null,
   "id": "84b193d7",
   "metadata": {},
   "outputs": [],
   "source": [
    "plt.figure(figsize = (15,4))\n",
    "plt.title('Price VS Airlines')\n",
    "plt.scatter(df['Airline'], df['Price'])\n",
    "plt.xticks\n",
    "plt.xlabel('Airline')\n",
    "plt.ylabel('Price of ticket')\n",
    "plt.xticks(rotation = 90);"
   ]
  },
  {
   "cell_type": "markdown",
   "id": "b3025af1",
   "metadata": {},
   "source": [
    "# Checking For Correlation:"
   ]
  },
  {
   "cell_type": "code",
   "execution_count": null,
   "id": "30b430eb",
   "metadata": {},
   "outputs": [],
   "source": [
    "plt.figure(figsize=(25,12))\n",
    "\n",
    "\n",
    "sns.heatmap(df.corr(),annot=True,linewidths=0.1,linecolor='black',fmt='0.2f');"
   ]
  },
  {
   "cell_type": "markdown",
   "id": "9f569f3f",
   "metadata": {},
   "source": [
    "# Using the Label Encoder Technique:\n",
    "\n",
    "Dealing with Categorical Data and Numerical Data\n",
    "\n"
   ]
  },
  {
   "cell_type": "code",
   "execution_count": null,
   "id": "dbe154c0",
   "metadata": {},
   "outputs": [],
   "source": [
    "from sklearn.preprocessing import LabelEncoder\n",
    "import warnings\n",
    "warnings.filterwarnings('ignore')\n",
    "\n",
    "\n",
    "for column in df.columns:\n",
    "    if df[column].dtype == np.number:\n",
    "        continue\n",
    "    df[column]= LabelEncoder().fit_transform(df[column])\n",
    "        \n",
    "    \n"
   ]
  },
  {
   "cell_type": "code",
   "execution_count": null,
   "id": "4de8b934",
   "metadata": {},
   "outputs": [],
   "source": [
    "df.dtypes"
   ]
  },
  {
   "cell_type": "code",
   "execution_count": null,
   "id": "0a6d1336",
   "metadata": {},
   "outputs": [],
   "source": [
    "df"
   ]
  },
  {
   "cell_type": "code",
   "execution_count": null,
   "id": "d1abfa93",
   "metadata": {},
   "outputs": [],
   "source": []
  },
  {
   "cell_type": "markdown",
   "id": "70ddab17",
   "metadata": {},
   "source": [
    "# Sperating The Target Variable:"
   ]
  },
  {
   "cell_type": "code",
   "execution_count": null,
   "id": "83c07efc",
   "metadata": {},
   "outputs": [],
   "source": [
    "x=df.drop(\"Price\",axis=1)\n",
    "\n",
    "\n",
    "\n",
    "y=df[\"Price\"]"
   ]
  },
  {
   "cell_type": "code",
   "execution_count": null,
   "id": "dc440b11",
   "metadata": {},
   "outputs": [],
   "source": [
    "x"
   ]
  },
  {
   "cell_type": "code",
   "execution_count": null,
   "id": "3f872e7e",
   "metadata": {},
   "outputs": [],
   "source": [
    "y"
   ]
  },
  {
   "cell_type": "markdown",
   "id": "ed1b51d6",
   "metadata": {},
   "source": [
    "# Checking For Skewness:"
   ]
  },
  {
   "cell_type": "code",
   "execution_count": null,
   "id": "ca46fe16",
   "metadata": {},
   "outputs": [],
   "source": [
    "# Calculating Mean Absolute Percentage Error\n",
    "def mean_absolute_percentage_error(y_true, y_pred): \n",
    "    y_true, y_pred = np.array(y_true), np.array(y_pred)\n",
    "    return np.mean(np.abs((y_true - y_pred) / y_true)) * 100"
   ]
  },
  {
   "cell_type": "code",
   "execution_count": null,
   "id": "d7de3971",
   "metadata": {},
   "outputs": [],
   "source": [
    "df.skew()"
   ]
  },
  {
   "cell_type": "code",
   "execution_count": null,
   "id": "e6814fa6",
   "metadata": {},
   "outputs": [],
   "source": [
    "\n",
    "x.skew().sort_values(ascending=False)\n",
    "sns.displot(x);"
   ]
  },
  {
   "cell_type": "code",
   "execution_count": null,
   "id": "9e6e3d0f",
   "metadata": {},
   "outputs": [],
   "source": [
    "from sklearn.preprocessing import power_transform\n",
    "\n",
    "x_new = power_transform(x)\n",
    "sns.displot(x_new);\n",
    "\n"
   ]
  },
  {
   "cell_type": "markdown",
   "id": "6ec4a3d7",
   "metadata": {},
   "source": [
    "Validating The Skewness Is Removed Or Not:"
   ]
  },
  {
   "cell_type": "markdown",
   "id": "ce2828ec",
   "metadata": {},
   "source": [
    "# Checking For Outliners:"
   ]
  },
  {
   "cell_type": "code",
   "execution_count": null,
   "id": "f7dc7299",
   "metadata": {},
   "outputs": [],
   "source": [
    "# checking for the outliners  \n",
    "\n",
    "# Removing the outliers:\n",
    "\n",
    "# Z Score Technique:\n",
    "\n",
    "from scipy.stats import zscore\n",
    "z=np.abs(zscore(x))\n",
    "z.shape\n",
    "\n",
    "\n"
   ]
  },
  {
   "cell_type": "code",
   "execution_count": null,
   "id": "a9ce3ab5",
   "metadata": {},
   "outputs": [],
   "source": [
    "threshold=3\n",
    "print(np.where(z>3))"
   ]
  },
  {
   "cell_type": "code",
   "execution_count": null,
   "id": "8b11d227",
   "metadata": {},
   "outputs": [],
   "source": [
    "x_new=x[(z<3).all(axis=1)]\n",
    "print(x.shape)\n",
    "print(x_new.shape)"
   ]
  },
  {
   "cell_type": "code",
   "execution_count": null,
   "id": "5b6ff661",
   "metadata": {},
   "outputs": [],
   "source": [
    "# checking the still outliers are present or not if they ARE present the they help in testing model or not\n",
    "\n",
    "\n",
    "\n",
    "from scipy.stats import zscore\n",
    "(np.abs(zscore(x))<3).all()"
   ]
  },
  {
   "cell_type": "markdown",
   "id": "28fb4d13",
   "metadata": {},
   "source": [
    "Here there is only one outliner present in the Additional_Info Column, So that this outliner can be neglected."
   ]
  },
  {
   "cell_type": "markdown",
   "id": "b900a341",
   "metadata": {},
   "source": [
    "# Splitting The Data:"
   ]
  },
  {
   "cell_type": "code",
   "execution_count": null,
   "id": "72ee4904",
   "metadata": {},
   "outputs": [],
   "source": [
    "from sklearn.linear_model import LinearRegression\n",
    "from sklearn.metrics import accuracy_score,confusion_matrix,classification_report\n",
    "from sklearn.model_selection import train_test_split\n",
    "from sklearn.metrics import r2_score\n",
    "import warnings\n",
    "warnings.filterwarnings('ignore')"
   ]
  },
  {
   "cell_type": "code",
   "execution_count": null,
   "id": "3549f600",
   "metadata": {},
   "outputs": [],
   "source": [
    "x_train, x_test, y_train, y_test = train_test_split(x, y, test_size=0.2,random_state = 0)"
   ]
  },
  {
   "cell_type": "markdown",
   "id": "2cfe0411",
   "metadata": {},
   "source": [
    "# Finding The Best Model:\n",
    "\n",
    "A] Linear Regression:"
   ]
  },
  {
   "cell_type": "code",
   "execution_count": null,
   "id": "8e594122",
   "metadata": {},
   "outputs": [],
   "source": [
    "for i in range(0,100):\n",
    "    x_train, x_test, y_train, y_test = train_test_split(x, y, test_size = 0.20, random_state = i)\n",
    "    lr = LinearRegression()\n",
    "    lr.fit(x_train, y_train)\n",
    "    pred_test = lr.predict(x_test)\n",
    "    pred_train = lr.predict(x_train)\n",
    "    \n",
    "    print(f\"At random state {i}, the training accuracy is:- {r2_score(y_train, pred_train)}\")\n",
    "    print(f\"At randoom stae {i}, the training accuracy is:- {r2_score(y_test, pred_test)}\")\n",
    "    print(\"\\n\")"
   ]
  },
  {
   "cell_type": "code",
   "execution_count": null,
   "id": "458c55b3",
   "metadata": {},
   "outputs": [],
   "source": [
    "x_train, x_test, y_train, y_test = train_test_split(x, y, test_size = 0.20, random_state = 33)"
   ]
  },
  {
   "cell_type": "code",
   "execution_count": null,
   "id": "2e968c38",
   "metadata": {},
   "outputs": [],
   "source": [
    "lr.fit(x_train, y_train)"
   ]
  },
  {
   "cell_type": "code",
   "execution_count": null,
   "id": "580c13ee",
   "metadata": {},
   "outputs": [],
   "source": [
    "pred_test = lr.predict(x_test)"
   ]
  },
  {
   "cell_type": "code",
   "execution_count": null,
   "id": "cb01a5ea",
   "metadata": {},
   "outputs": [],
   "source": [
    "print(r2_score(y_test, pred_test))"
   ]
  },
  {
   "cell_type": "markdown",
   "id": "64d3bd17",
   "metadata": {},
   "source": [
    "here r2_score of our model is 93.33 which is good one."
   ]
  },
  {
   "cell_type": "markdown",
   "id": "a27e3d52",
   "metadata": {},
   "source": [
    "# B] Lasso Regression:"
   ]
  },
  {
   "cell_type": "code",
   "execution_count": null,
   "id": "a108f4d9",
   "metadata": {},
   "outputs": [],
   "source": [
    "# Performing GridSearchCV on Lasso Regression\n",
    "from sklearn.model_selection import GridSearchCV\n",
    "from sklearn.linear_model import Lasso\n",
    "from sklearn.model_selection import train_test_split\n",
    "from math import sqrt\n",
    "from sklearn.metrics import mean_squared_error as mse\n",
    "\n",
    "\n",
    "params = {'alpha' : [0.0001, 0.001, 0.01, 0.1, 1, 10, 100, 1000, 10000, 100000]}\n",
    "lasso_regressor = GridSearchCV(Lasso(), params ,cv = 15,scoring = 'neg_mean_absolute_error', n_jobs = -1)\n",
    "lasso_regressor.fit(x_train, y_train)"
   ]
  },
  {
   "cell_type": "code",
   "execution_count": null,
   "id": "06f3a2d4",
   "metadata": {},
   "outputs": [],
   "source": [
    "# Predicting train and test results\n",
    "y_train_pred = lasso_regressor.predict(x_train)\n",
    "y_test_pred = lasso_regressor.predict(x_test)"
   ]
  },
  {
   "cell_type": "code",
   "execution_count": null,
   "id": "76fa0bb0",
   "metadata": {},
   "outputs": [],
   "source": [
    "print(\"Train Results for Lasso Regressor Model:\")\n",
    "print(\"Root Mean Squared Error: \", sqrt(mse(y_train.values, y_train_pred)))\n",
    "# print(\"Mean Absolute % Error: \", round(mean_absolute_percentage_error(y_train.values, y_train_pred)))\n",
    "print(\"R-Squared: \", r2_score(y_train.values, y_train_pred))"
   ]
  },
  {
   "cell_type": "code",
   "execution_count": null,
   "id": "64becf5d",
   "metadata": {},
   "outputs": [],
   "source": [
    "print(\"Test Results for Lasso Regressor Model:\")\n",
    "print(\"Root Mean squared Error: \", sqrt(mse(y_test, y_test_pred)))\n",
    "print(\"Mean Absolute % Error: \", round(mean_absolute_percentage_error(y_test, y_test_pred)))\n",
    "print(\"R-Squared: \", r2_score(y_test, y_test_pred))"
   ]
  },
  {
   "cell_type": "markdown",
   "id": "df49962f",
   "metadata": {},
   "source": [
    "# Decision Tree Regression:"
   ]
  },
  {
   "cell_type": "code",
   "execution_count": null,
   "id": "d914bfaf",
   "metadata": {},
   "outputs": [],
   "source": [
    "from sklearn.tree import DecisionTreeRegressor\n",
    "from sklearn.ensemble import RandomForestRegressor\n",
    "from sklearn.preprocessing import LabelEncoder\n",
    "from sklearn.model_selection import KFold\n",
    "from sklearn.model_selection import train_test_split\n",
    "from sklearn.model_selection import GridSearchCV\n",
    "from sklearn.model_selection import RandomizedSearchCV\n",
    "\n"
   ]
  },
  {
   "cell_type": "code",
   "execution_count": null,
   "id": "5e1fae0d",
   "metadata": {},
   "outputs": [],
   "source": [
    "# Performing GridSearchCV on Decision Tree Regression\n",
    "depth = list(range(3,30))\n",
    "param_grid = dict(max_depth = depth)\n",
    "tree = GridSearchCV(DecisionTreeRegressor(), param_grid, cv = 10)\n",
    "tree.fit(x_train,y_train)"
   ]
  },
  {
   "cell_type": "code",
   "execution_count": null,
   "id": "d789c9f9",
   "metadata": {},
   "outputs": [],
   "source": [
    "# Predicting train and test results\n",
    "y_train_pred = tree.predict(x_train)\n",
    "y_test_pred = tree.predict(x_test)"
   ]
  },
  {
   "cell_type": "code",
   "execution_count": null,
   "id": "d320311c",
   "metadata": {},
   "outputs": [],
   "source": [
    "print(\"Train Results for Decision Tree Regressor Model:\")\n",
    "print(\"Root Mean squared Error: \", sqrt(mse(y_train.values, y_train_pred)))\n",
    "print(\"R-Squared: \", r2_score(y_train.values, y_train_pred))\n"
   ]
  },
  {
   "cell_type": "code",
   "execution_count": null,
   "id": "22aa293e",
   "metadata": {},
   "outputs": [],
   "source": [
    "print(\"Test Results for Decision Tree Regressor Model:\")\n",
    "print(\"Root Mean Squared Error: \", sqrt(mse(y_test, y_test_pred)))\n",
    "print(\"Mean Absolute % Error: \", round(mean_absolute_percentage_error(y_test, y_test_pred)))\n",
    "print(\"R-Squared: \", r2_score(y_test, y_test_pred))"
   ]
  },
  {
   "cell_type": "markdown",
   "id": "a1cd876d",
   "metadata": {},
   "source": [
    "From Above Three Models We Find The Best Accuracy in the DECISION TREE REGRESSOR.\n"
   ]
  },
  {
   "cell_type": "markdown",
   "id": "49f08601",
   "metadata": {},
   "source": [
    "# Model Saving:"
   ]
  },
  {
   "cell_type": "code",
   "execution_count": null,
   "id": "e582a2c9",
   "metadata": {},
   "outputs": [],
   "source": [
    "# model Saving\n",
    "\n",
    "import pickle\n",
    "filename = 'price.pkl'\n",
    "pickle.dump(lr, open(filename, 'wb'))"
   ]
  },
  {
   "cell_type": "markdown",
   "id": "e3955d78",
   "metadata": {},
   "source": [
    "# Conclusion:"
   ]
  },
  {
   "cell_type": "code",
   "execution_count": null,
   "id": "730ff129",
   "metadata": {},
   "outputs": [],
   "source": [
    "# Conclusion\n",
    "\n",
    "import numpy as np\n",
    "a = np.array(y_test)\n",
    "predicated = np.array(tree.predict(x_test))\n",
    "df_com = pd.DataFrame({'original':a, \"predicted\":predicated}, index=range(len(a)))\n",
    "df_com"
   ]
  },
  {
   "cell_type": "code",
   "execution_count": null,
   "id": "fa3da92a",
   "metadata": {},
   "outputs": [],
   "source": []
  }
 ],
 "metadata": {
  "kernelspec": {
   "display_name": "Python 3.9.7 ('base')",
   "language": "python",
   "name": "python3"
  },
  "language_info": {
   "codemirror_mode": {
    "name": "ipython",
    "version": 3
   },
   "file_extension": ".py",
   "mimetype": "text/x-python",
   "name": "python",
   "nbconvert_exporter": "python",
   "pygments_lexer": "ipython3",
   "version": "3.9.7"
  },
  "vscode": {
   "interpreter": {
    "hash": "40d3a090f54c6569ab1632332b64b2c03c39dcf918b08424e98f38b5ae0af88f"
   }
  }
 },
 "nbformat": 4,
 "nbformat_minor": 5
}
